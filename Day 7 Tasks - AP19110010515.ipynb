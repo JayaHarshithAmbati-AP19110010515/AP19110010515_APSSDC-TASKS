{
 "cells": [
  {
   "cell_type": "markdown",
   "metadata": {},
   "source": [
    "**1). Write a pattern to display 4 digit numbers from list.**"
   ]
  },
  {
   "cell_type": "code",
   "execution_count": 1,
   "metadata": {},
   "outputs": [
    {
     "name": "stdout",
     "output_type": "stream",
     "text": [
      "8989\n",
      "1234\n",
      "4545\n"
     ]
    }
   ],
   "source": [
    "# Method 1\n",
    "import re\n",
    "list1 = {\"388\",\"78934903\",\"345678\",\"1234\",\"675\",\"87878\",\"4545\",\"8989\"}\n",
    "for i in list1:\n",
    "    if re.findall('^[0-9]{4}$',i):\n",
    "        print(i)"
   ]
  },
  {
   "cell_type": "code",
   "execution_count": 2,
   "metadata": {},
   "outputs": [
    {
     "name": "stdout",
     "output_type": "stream",
     "text": [
      "Enter no.of elements for list: 8\n",
      "111\n",
      "2222\n",
      "3333\n",
      "44\n",
      "5496\n",
      "1\n",
      "221\n",
      "335\n",
      "The List is:  ['111', '2222', '3333', '44', '5496', '1', '221', '335']\n",
      "The Four digits numbers from the list are : \n",
      "2222 \t3333 \t5496 \t"
     ]
    }
   ],
   "source": [
    "# Method 2\n",
    "l1 = []\n",
    "n = int(input(\"Enter no.of elements for list: \"))\n",
    "for i in range(n):\n",
    "    a = input()\n",
    "    l1.append(a)\n",
    "print(\"The List is: \",l1)\n",
    "\n",
    "import re\n",
    "print(\"The Four digits numbers from the list are : \")\n",
    "for i in l1:\n",
    "    if re.findall('^[0-9]{4}$',i):\n",
    "        print(i, end =\" \\t\")"
   ]
  },
  {
   "cell_type": "markdown",
   "metadata": {},
   "source": [
    "\n",
    "**2). Validate a phone number using patterns.**"
   ]
  },
  {
   "cell_type": "code",
   "execution_count": 4,
   "metadata": {},
   "outputs": [
    {
     "name": "stdout",
     "output_type": "stream",
     "text": [
      "7664510762\n",
      "9848415372\n",
      "7207201571\n"
     ]
    }
   ],
   "source": [
    "# Method1\n",
    "import re\n",
    "ph_list = [\"7664510762\",\"9848415372\",\"7207201571\",\"789654\",\"1234567890\"]\n",
    "for i in ph_list:\n",
    "    if re.findall('[6-9]{1}[0-9]{9}$',i):\n",
    "        print(i)"
   ]
  },
  {
   "cell_type": "code",
   "execution_count": 5,
   "metadata": {},
   "outputs": [
    {
     "name": "stdout",
     "output_type": "stream",
     "text": [
      "Enter no.of elements for list: 7\n",
      "1234478456\n",
      "123459\n",
      "9848228647\n",
      "258634\n",
      "7896541235\n",
      "5236417893\n",
      "9182211123\n",
      "The List is:  ['1234478456', '123459', '9848228647', '258634', '7896541235', '5236417893', '9182211123']\n",
      "The Validate phone numbers from the list are : \n",
      "9848228647\n",
      "7896541235\n",
      "9182211123\n"
     ]
    }
   ],
   "source": [
    "# Method 2\n",
    "ph_list = []\n",
    "n = int(input(\"Enter no.of elements for list: \"))\n",
    "for i in range(n):\n",
    "    a = input()\n",
    "    ph_list.append(a)\n",
    "print(\"The List is: \",ph_list)\n",
    "\n",
    "import re\n",
    "print(\"The Validate phone numbers from the list are : \")\n",
    "for i in ph_list:\n",
    "    if re.findall('[6-9]{1}[0-9]{9}$',i):\n",
    "        print(i)"
   ]
  },
  {
   "cell_type": "code",
   "execution_count": null,
   "metadata": {},
   "outputs": [],
   "source": []
  }
 ],
 "metadata": {
  "kernelspec": {
   "display_name": "Python 3",
   "language": "python",
   "name": "python3"
  },
  "language_info": {
   "codemirror_mode": {
    "name": "ipython",
    "version": 3
   },
   "file_extension": ".py",
   "mimetype": "text/x-python",
   "name": "python",
   "nbconvert_exporter": "python",
   "pygments_lexer": "ipython3",
   "version": "3.7.4"
  }
 },
 "nbformat": 4,
 "nbformat_minor": 2
}
