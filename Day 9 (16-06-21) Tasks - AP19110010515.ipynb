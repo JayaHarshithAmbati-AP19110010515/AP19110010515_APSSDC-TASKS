{
 "cells": [
  {
   "cell_type": "markdown",
   "metadata": {},
   "source": [
    "**Task**\n",
    "* **Write a program in module.**\n",
    "* **Ask the user to enter the data.**\n",
    "* **Check the data if it's camelcase print Like (Thumbsup)emoji**\n",
    "* **else convert the data into camelcase then speakout Successfully converted your data into camel case 1**\n"
   ]
  },
  {
   "cell_type": "code",
   "execution_count": 1,
   "metadata": {},
   "outputs": [
    {
     "name": "stdout",
     "output_type": "stream",
     "text": [
      "Enter yourdata: I am Jaya Harshith\n",
      "The coverted data is:  I Am Jaya Harshith\n"
     ]
    }
   ],
   "source": [
    "\n",
    "import modules2\n",
    "modules2.camelcasecon()"
   ]
  },
  {
   "cell_type": "code",
   "execution_count": 2,
   "metadata": {},
   "outputs": [
    {
     "name": "stdout",
     "output_type": "stream",
     "text": [
      "Enter yourdata: Harshith\n",
      "👍\n"
     ]
    }
   ],
   "source": [
    "\n",
    "import modules2\n",
    "modules2.camelcasecon()"
   ]
  },
  {
   "cell_type": "code",
   "execution_count": null,
   "metadata": {},
   "outputs": [],
   "source": []
  }
 ],
 "metadata": {
  "kernelspec": {
   "display_name": "Python 3",
   "language": "python",
   "name": "python3"
  },
  "language_info": {
   "codemirror_mode": {
    "name": "ipython",
    "version": 3
   },
   "file_extension": ".py",
   "mimetype": "text/x-python",
   "name": "python",
   "nbconvert_exporter": "python",
   "pygments_lexer": "ipython3",
   "version": "3.7.4"
  }
 },
 "nbformat": 4,
 "nbformat_minor": 2
}
