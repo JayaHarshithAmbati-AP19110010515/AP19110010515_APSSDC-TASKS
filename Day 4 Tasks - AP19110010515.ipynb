{
 "cells": [
  {
   "cell_type": "markdown",
   "metadata": {},
   "source": [
    "\n",
    "**Task:**\n",
    "\n",
    "**Take input from the user.**\n",
    "\n",
    "**Check the length of the string even or odd.**\n",
    "\n",
    "**If the string length is odd access one middle character**\n",
    "\n",
    "**If the string length is even access two middle character**"
   ]
  },
  {
   "cell_type": "code",
   "execution_count": 1,
   "metadata": {},
   "outputs": [
    {
     "name": "stdout",
     "output_type": "stream",
     "text": [
      "Enter The String: Jaya Harshith Ambati\n",
      "The Entered string is :  Jaya Harshith Ambati\n",
      "The Length of string is:  20 and it has Even no.of characters \n",
      "The middle characters of string are:  h,i\n"
     ]
    }
   ],
   "source": [
    "n = input(\"Enter The String: \")\n",
    "print(\"The Entered string is : \" , n)\n",
    "if len(n)%2 == 0 :\n",
    "    print(\"The Length of string is: \",len(n),\"and it has Even no.of characters \")\n",
    "    print(\"The middle characters of string are: \", (n[len(n)//2 - 1]) + \",\"+ (n[len(n)//2]) )\n",
    "else:\n",
    "    print(\"The Length of string is: \",len(n),\"and it has Odd no.of characters \")\n",
    "    print(\"The middle characters of string are: \" , n[len(n)//2] )"
   ]
  },
  {
   "cell_type": "code",
   "execution_count": null,
   "metadata": {},
   "outputs": [],
   "source": []
  }
 ],
 "metadata": {
  "kernelspec": {
   "display_name": "Python 3",
   "language": "python",
   "name": "python3"
  },
  "language_info": {
   "codemirror_mode": {
    "name": "ipython",
    "version": 3
   },
   "file_extension": ".py",
   "mimetype": "text/x-python",
   "name": "python",
   "nbconvert_exporter": "python",
   "pygments_lexer": "ipython3",
   "version": "3.7.4"
  }
 },
 "nbformat": 4,
 "nbformat_minor": 2
}
